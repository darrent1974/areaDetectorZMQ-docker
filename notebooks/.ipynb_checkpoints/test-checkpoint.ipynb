{
 "cells": [
  {
   "cell_type": "code",
   "execution_count": 1,
   "id": "cd2b2a9e",
   "metadata": {},
   "outputs": [],
   "source": [
    "import datetime\n",
    "import logging\n",
    "import os\n",
    "import shutil\n",
    "import time\n",
    "from unittest.mock import Mock\n",
    "import sys\n",
    "\n",
    "import numpy as np\n",
    "from io import StringIO\n",
    "from pathlib import PurePath, Path\n",
    "\n",
    "from ophyd import (set_cl, EpicsMotor, Signal, EpicsSignal, EpicsSignalRO,\n",
    "                   Component as Cpt)\n",
    "from ophyd.utils.epics_pvs import (AlarmSeverity, AlarmStatus)                   \n",
    "\n",
    "from ophyd.utils.paths import make_dir_tree\n",
    "from ophyd import (SimDetector, SingleTrigger, Component, Device,\n",
    "                   DynamicDeviceComponent, Kind, wait)\n",
    "from ophyd.areadetector.plugins import (ImagePlugin, StatsPlugin,\n",
    "                                        ColorConvPlugin, ProcessPlugin,\n",
    "                                        OverlayPlugin, ROIPlugin,\n",
    "                                        TransformPlugin, NetCDFPlugin,\n",
    "                                        TIFFPlugin, JPEGPlugin, HDF5Plugin,\n",
    "                                        register_plugin\n",
    "                                        # FilePlugin\n",
    "                                        )\n",
    "from ophyd.areadetector.base import NDDerivedSignal\n",
    "from ophyd.areadetector.filestore_mixins import (\n",
    "    FileStoreTIFF, FileStoreIterativeWrite,\n",
    "    FileStoreHDF5)\n",
    "\n",
    "# we do not have nexus installed on our test IOC\n",
    "# from ophyd.areadetector.plugins import NexusPlugin\n",
    "from ophyd.areadetector.plugins import PluginBase\n",
    "from ophyd.areadetector.util import stub_templates\n",
    "#from ophyd.device import (Component as Cpt, )\n",
    "from ophyd.signal import Signal\n",
    "import uuid\n",
    "\n",
    "from epics import caget, caput, cainfo"
   ]
  },
  {
   "cell_type": "code",
   "execution_count": 2,
   "id": "6d232506-8e13-4c2b-94aa-ae6bfe57427b",
   "metadata": {},
   "outputs": [],
   "source": [
    "@register_plugin\n",
    "class ZMQPlugin(PluginBase): #, version_type='ADZMQ'):\n",
    "    '''An areadetector plugin class that publishes an NDArray to a ZMQ socket'''\n",
    "    _default_suffix = 'ZMQ1:'\n",
    "    _suffix_re = r'ZMQ\\d:'\n",
    "    _plugin_type = 'NDPluginZMQ'\n",
    "    "
   ]
  },
  {
   "cell_type": "code",
   "execution_count": null,
   "id": "f1e578d5-0d78-477a-9760-23b5a5ca37fe",
   "metadata": {},
   "outputs": [],
   "source": [
    "cainfo('13SIM1:cam1:Acquire')\n",
    "cainfo('13SIM1:ZMQ1:EnableCallbacks')\n",
    "cainfo('13SIM1:ZMQ1:PluginType_RBV')"
   ]
  },
  {
   "cell_type": "code",
   "execution_count": 4,
   "id": "a3f80a19-38dd-4ea6-b15e-70f8cc7ed57e",
   "metadata": {},
   "outputs": [
    {
     "name": "stdout",
     "output_type": "stream",
     "text": [
      "EpicsSignalRO(read_pv='13SIM1:ZMQ1:PluginType_RBV', name='test_zmq1_plugin_type', parent='test_zmq1', value='NDPluginZMQ', timestamp=1631243890.053128, auto_monitor=False, string=False)\n",
      "SimDetectorCam(prefix='13SIM1:cam1:', name='test_cam', parent='test', read_attrs=[], configuration_attrs=['acquire_period', 'acquire_time', 'image_mode', 'manufacturer', 'model', 'num_exposures', 'num_images', 'trigger_mode'])\n",
      "staged\n",
      "triggered\n",
      "count = 6\n",
      "unstaged\n"
     ]
    }
   ],
   "source": [
    "try:\n",
    "    class TestAD(SingleTrigger, SimDetector):\n",
    "        zmq1 = Cpt(ZMQPlugin, 'ZMQ1:')\n",
    "\n",
    "    #caput('13SIM1:ZMQ1:EnableCallbacks', 1)\n",
    "    \n",
    "    det = TestAD(\"13SIM1:\", name='test')\n",
    "    print(det.zmq1.plugin_type)\n",
    "    \n",
    "    print(det.cam)\n",
    "\n",
    "    det.cam.acquire_time.put(.1)\n",
    "    det.cam.num_images.put(1)\n",
    "    time.sleep(1)\n",
    "\n",
    "    #print(caget('13SIM1:ZMQ1:EnableCallbacks'))\n",
    "        \n",
    "    det.stage()\n",
    "    print('staged')\n",
    "    \n",
    "    #print(caget('13SIM1:ZMQ1:EnableCallbacks'))\n",
    "\n",
    "    #time.sleep(1)\n",
    "\n",
    "    st = det.trigger()\n",
    "    print('triggered')\n",
    "\n",
    "    count = 0\n",
    "    while not st.done:\n",
    "        time.sleep(.1)\n",
    "\n",
    "        count += 1\n",
    "\n",
    "    print(f'count = {count}')\n",
    "    \n",
    "    #reading = det.read()\n",
    "    #print(reading)\n",
    "    #print(det.describe())\n",
    "    \n",
    "    #print(caget('13SIM1:ZMQ1:EnableCallbacks'))\n",
    "    det.unstage()\n",
    "    print('unstaged')\n",
    "    #print(caget('13SIM1:ZMQ1:EnableCallbacks'))\n",
    "\n",
    "except:\n",
    "    print(f'Exception: {sys.exc_info()}')"
   ]
  },
  {
   "cell_type": "code",
   "execution_count": 4,
   "id": "fd918990-0f71-440d-bfd4-4c7ea028f969",
   "metadata": {},
   "outputs": [
    {
     "data": {
      "text/plain": [
       "1"
      ]
     },
     "execution_count": 4,
     "metadata": {},
     "output_type": "execute_result"
    }
   ],
   "source": [
    "caput('13SIM1:cam1:Acquire', 1)\n",
    "caput('13SIM1:cam1:ArrayCallbacks', 1)\n",
    "caput('13SIM1:ZMQ1:EnableCallbacks', 1)"
   ]
  },
  {
   "cell_type": "code",
   "execution_count": 5,
   "id": "05210c54-71aa-4314-b6dd-16526782221c",
   "metadata": {},
   "outputs": [
    {
     "data": {
      "text/plain": [
       "1"
      ]
     },
     "execution_count": 5,
     "metadata": {},
     "output_type": "execute_result"
    }
   ],
   "source": [
    "caput('13SIM1:cam1:Acquire', 0)\n",
    "caput('13SIM1:ZMQ1:EnableCallbacks', 0)"
   ]
  },
  {
   "cell_type": "code",
   "execution_count": 25,
   "id": "f02f3ccf-864e-4cf1-ab6d-708e851aa07f",
   "metadata": {},
   "outputs": [
    {
     "data": {
      "text/plain": [
       "1024"
      ]
     },
     "execution_count": 25,
     "metadata": {},
     "output_type": "execute_result"
    }
   ],
   "source": [
    "caget('13SIM1:cam1:SizeX')"
   ]
  },
  {
   "cell_type": "code",
   "execution_count": 29,
   "id": "ed7c7d15-846d-488d-b298-099dce084860",
   "metadata": {},
   "outputs": [
    {
     "data": {
      "text/plain": [
       "1"
      ]
     },
     "execution_count": 29,
     "metadata": {},
     "output_type": "execute_result"
    }
   ],
   "source": [
    "caput('13SIM1:cam1:SizeX', 1024)\n",
    "caput('13SIM1:cam1:SizeY', 1024)"
   ]
  },
  {
   "cell_type": "code",
   "execution_count": null,
   "id": "66e20cf8-0367-4629-95f3-9d73cc569d98",
   "metadata": {},
   "outputs": [],
   "source": []
  }
 ],
 "metadata": {
  "kernelspec": {
   "display_name": "Python 3 (ipykernel)",
   "language": "python",
   "name": "python3"
  },
  "language_info": {
   "codemirror_mode": {
    "name": "ipython",
    "version": 3
   },
   "file_extension": ".py",
   "mimetype": "text/x-python",
   "name": "python",
   "nbconvert_exporter": "python",
   "pygments_lexer": "ipython3",
   "version": "3.9.5"
  }
 },
 "nbformat": 4,
 "nbformat_minor": 5
}
