{
 "cells": [
  {
   "cell_type": "code",
   "execution_count": 1,
   "id": "cd2b2a9e",
   "metadata": {},
   "outputs": [
    {
     "data": {
      "text/plain": [
       "0"
      ]
     },
     "execution_count": 1,
     "metadata": {},
     "output_type": "execute_result"
    }
   ],
   "source": [
    "import datetime\n",
    "import logging\n",
    "import os\n",
    "import shutil\n",
    "import time\n",
    "from unittest.mock import Mock\n",
    "import sys\n",
    "\n",
    "import numpy as np\n",
    "from io import StringIO\n",
    "from pathlib import PurePath, Path\n",
    "\n",
    "from ophyd import (set_cl, EpicsMotor, Signal, EpicsSignal, EpicsSignalRO,\n",
    "                   Component as Cpt)\n",
    "from ophyd.utils.epics_pvs import (AlarmSeverity, AlarmStatus)                   \n",
    "\n",
    "from ophyd.utils.paths import make_dir_tree\n",
    "from ophyd import (SimDetector, SingleTrigger, Component, Device,\n",
    "                   DynamicDeviceComponent, Kind, wait)\n",
    "from ophyd.areadetector.plugins import (ImagePlugin, StatsPlugin,\n",
    "                                        ColorConvPlugin, ProcessPlugin,\n",
    "                                        OverlayPlugin, ROIPlugin,\n",
    "                                        TransformPlugin, NetCDFPlugin,\n",
    "                                        TIFFPlugin, JPEGPlugin, HDF5Plugin,\n",
    "                                        register_plugin\n",
    "                                        # FilePlugin\n",
    "                                        )\n",
    "from ophyd.areadetector.base import NDDerivedSignal\n",
    "from ophyd.areadetector.filestore_mixins import (\n",
    "    FileStoreTIFF, FileStoreIterativeWrite,\n",
    "    FileStoreHDF5)\n",
    "\n",
    "# we do not have nexus installed on our test IOC\n",
    "# from ophyd.areadetector.plugins import NexusPlugin\n",
    "from ophyd.areadetector.plugins import PluginBase\n",
    "from ophyd.areadetector.util import stub_templates\n",
    "#from ophyd.device import (Component as Cpt, )\n",
    "from ophyd.signal import Signal\n",
    "import uuid\n",
    "\n",
    "from epics import caget, caput, cainfo\n",
    "\n",
    "from bluesky import RunEngine\n",
    "from bluesky.utils import ProgressBarManager\n",
    "from ophyd.sim import motor, det1 \n",
    "from bluesky.simulators import summarize_plan\n",
    "from bluesky.plans import count, scan\n",
    "import bluesky.plan_stubs\n",
    "from bluesky.callbacks.best_effort import BestEffortCallback\n",
    "\n",
    "RE = RunEngine({})\n",
    "RE.waiting_hook = ProgressBarManager()\n",
    "\n",
    "bec = BestEffortCallback()\n",
    "\n",
    "# Send all metadata/data captured to the BestEffortCallback.\n",
    "RE.subscribe(bec)\n"
   ]
  },
  {
   "cell_type": "code",
   "execution_count": 2,
   "id": "6d232506-8e13-4c2b-94aa-ae6bfe57427b",
   "metadata": {},
   "outputs": [],
   "source": [
    "@register_plugin\n",
    "class ZMQPlugin(PluginBase): #, version_type='ADZMQ'):\n",
    "    '''An areadetector plugin class that publishes an NDArray to a ZMQ socket'''\n",
    "    _default_suffix = 'ZMQ1:'\n",
    "    _suffix_re = r'ZMQ\\d:'\n",
    "    _plugin_type = 'NDPluginZMQ'\n",
    "    "
   ]
  },
  {
   "cell_type": "code",
   "execution_count": null,
   "id": "f1e578d5-0d78-477a-9760-23b5a5ca37fe",
   "metadata": {},
   "outputs": [],
   "source": [
    "cainfo('13SIM1:cam1:Acquire')\n",
    "cainfo('13SIM1:ZMQ1:EnableCallbacks')\n",
    "cainfo('13SIM1:ZMQ1:PluginType_RBV')"
   ]
  },
  {
   "cell_type": "code",
   "execution_count": 3,
   "id": "6a600ebb-afed-4b4e-919f-8f05d428c848",
   "metadata": {},
   "outputs": [
    {
     "name": "stdout",
     "output_type": "stream",
     "text": [
      "EpicsSignalRO(read_pv='13SIM1:ZMQ1:PluginType_RBV', name='test_zmq1_plugin_type', parent='test_zmq1', value='NDPluginZMQ', timestamp=1631244672.710536, auto_monitor=False, string=False)\n",
      "SimDetectorCam(prefix='13SIM1:cam1:', name='test_cam', parent='test', read_attrs=[], configuration_attrs=['acquire_period', 'acquire_time', 'image_mode', 'manufacturer', 'model', 'num_exposures', 'num_images', 'trigger_mode'])\n"
     ]
    }
   ],
   "source": [
    "class ADZMQStopAndShoot(SingleTrigger, SimDetector):\n",
    "    zmq1 = Cpt(ZMQPlugin, 'ZMQ1:')\n",
    "\n",
    "det_zmq = ADZMQStopAndShoot(\"13SIM1:\", name='test')\n",
    "det_zmq.cam.acquire_time.put(.01)\n",
    "det_zmq.cam.num_images.put(1)\n",
    "    \n",
    "print(det_zmq.zmq1.plugin_type)\n",
    "\n",
    "print(det_zmq.cam)"
   ]
  },
  {
   "cell_type": "code",
   "execution_count": null,
   "id": "fd918990-0f71-440d-bfd4-4c7ea028f969",
   "metadata": {},
   "outputs": [],
   "source": [
    "caput('13SIM1:cam1:Acquire', 1)\n",
    "caput('13SIM1:cam1:ArrayCallbacks', 1)\n",
    "caput('13SIM1:ZMQ1:EnableCallbacks', 1)"
   ]
  },
  {
   "cell_type": "code",
   "execution_count": null,
   "id": "05210c54-71aa-4314-b6dd-16526782221c",
   "metadata": {},
   "outputs": [],
   "source": [
    "caput('13SIM1:cam1:Acquire', 0)\n",
    "caput('13SIM1:ZMQ1:EnableCallbacks', 0)"
   ]
  },
  {
   "cell_type": "code",
   "execution_count": 6,
   "id": "66e20cf8-0367-4629-95f3-9d73cc569d98",
   "metadata": {},
   "outputs": [],
   "source": [
    "def series_scan_plan(detector, num_frames, scan_type):\n",
    "    yield from count([detector], num=num_frames, md={'scan_type': scan_type})\n",
    "       \n",
    "def tomo_scan_plan(detector,scan_range, num_angles):\n",
    "    yield from scan([detector], motor, 0, scan_range, num_angles, md={'scan_type': 'tomo'})\n",
    "    \n",
    "def sample_scan_plan(detector, num_dark_flat_frames, scan_range, num_angles):\n",
    "    yield from series_scan_plan(detector, num_dark_flat_frames, 'dark_field')\n",
    "    yield from series_scan_plan(detector, num_dark_flat_frames, 'flat_field')\n",
    "    yield from tomo_scan_plan(detector, scan_range, num_angles)\n",
    "\n",
    "#RE(count(dets, num=20))\n",
    "#summarize_plan(scan(dets, motor, 0, 180, 180))\n"
   ]
  },
  {
   "cell_type": "code",
   "execution_count": 8,
   "id": "da0f321f-51a5-4523-8e19-8265c99e1b9d",
   "metadata": {},
   "outputs": [
    {
     "name": "stdout",
     "output_type": "stream",
     "text": [
      "\n",
      "\n",
      "Transient Scan ID: 5     Time: 2021-09-10 06:12:28\n",
      "Persistent Unique Scan ID: '8716755e-45dd-4377-b9ee-110dbee00b2d'\n",
      "New stream: 'primary'\n",
      "+-----------+------------+\n",
      "|   seq_num |       time |\n",
      "+-----------+------------+\n",
      "|         1 | 06:12:28.2 |\n",
      "|         2 | 06:12:28.2 |\n",
      "|         3 | 06:12:28.2 |\n",
      "|         4 | 06:12:28.2 |\n",
      "|         5 | 06:12:28.3 |\n",
      "|         6 | 06:12:28.3 |\n",
      "|         7 | 06:12:28.3 |\n",
      "|         8 | 06:12:28.3 |\n",
      "|         9 | 06:12:28.3 |\n",
      "|        10 | 06:12:28.4 |\n",
      "+-----------+------------+\n",
      "generator count ['8716755e'] (scan num: 5)\n",
      "\n",
      "\n",
      "\n",
      "\n",
      "\n",
      "Transient Scan ID: 6     Time: 2021-09-10 06:12:28\n",
      "Persistent Unique Scan ID: '3bd4c8a4-fdca-4469-9fe3-a8eddc50989b'\n",
      "New stream: 'primary'\n",
      "+-----------+------------+\n",
      "|   seq_num |       time |\n",
      "+-----------+------------+\n",
      "|         1 | 06:12:28.5 |\n",
      "|         2 | 06:12:28.5 |\n",
      "|         3 | 06:12:28.5 |\n",
      "|         4 | 06:12:28.5 |\n",
      "|         5 | 06:12:28.6 |\n",
      "|         6 | 06:12:28.6 |\n",
      "|         7 | 06:12:28.6 |\n",
      "|         8 | 06:12:28.6 |\n",
      "|         9 | 06:12:28.6 |\n",
      "|        10 | 06:12:28.7 |\n",
      "+-----------+------------+\n",
      "generator count ['3bd4c8a4'] (scan num: 6)\n",
      "\n",
      "\n",
      "\n",
      "\n",
      "\n",
      "Transient Scan ID: 7     Time: 2021-09-10 06:12:28\n",
      "Persistent Unique Scan ID: 'ab917084-ead6-4a43-9545-d3b55eaa98e2'\n",
      "New stream: 'primary'\n",
      "+-----------+------------+------------+\n",
      "|   seq_num |       time |      motor |\n",
      "+-----------+------------+------------+\n",
      "|         1 | 06:12:28.8 |      0.000 |\n",
      "|         2 | 06:12:28.8 |     10.588 |\n",
      "|         3 | 06:12:28.8 |     21.176 |\n",
      "|         4 | 06:12:28.9 |     31.765 |\n",
      "|         5 | 06:12:28.9 |     42.353 |\n",
      "|         6 | 06:12:28.9 |     52.941 |\n",
      "|         7 | 06:12:28.9 |     63.529 |\n",
      "|         8 | 06:12:28.9 |     74.118 |\n",
      "|         9 | 06:12:29.0 |     84.706 |\n",
      "|        10 | 06:12:29.0 |     95.294 |\n",
      "|        11 | 06:12:29.0 |    105.882 |\n",
      "|        12 | 06:12:29.0 |    116.471 |\n",
      "|        13 | 06:12:29.0 |    127.059 |\n",
      "|        14 | 06:12:29.1 |    137.647 |\n",
      "|        15 | 06:12:29.1 |    148.235 |\n",
      "|        16 | 06:12:29.1 |    158.824 |\n",
      "|        17 | 06:12:29.1 |    169.412 |\n",
      "|        18 | 06:12:29.1 |    180.000 |\n",
      "+-----------+------------+------------+\n",
      "generator scan ['ab917084'] (scan num: 7)\n",
      "\n",
      "\n",
      "\n"
     ]
    },
    {
     "data": {
      "text/plain": [
       "('8716755e-45dd-4377-b9ee-110dbee00b2d',\n",
       " '3bd4c8a4-fdca-4469-9fe3-a8eddc50989b',\n",
       " 'ab917084-ead6-4a43-9545-d3b55eaa98e2')"
      ]
     },
     "execution_count": 8,
     "metadata": {},
     "output_type": "execute_result"
    }
   ],
   "source": [
    "RE(sample_scan_plan(det_zmq, 10,180,18), sample_id='test')"
   ]
  },
  {
   "cell_type": "code",
   "execution_count": null,
   "id": "7507e740-10f4-48cf-ac64-3c64f019ce0e",
   "metadata": {},
   "outputs": [],
   "source": []
  }
 ],
 "metadata": {
  "kernelspec": {
   "display_name": "Python 3 (ipykernel)",
   "language": "python",
   "name": "python3"
  },
  "language_info": {
   "codemirror_mode": {
    "name": "ipython",
    "version": 3
   },
   "file_extension": ".py",
   "mimetype": "text/x-python",
   "name": "python",
   "nbconvert_exporter": "python",
   "pygments_lexer": "ipython3",
   "version": "3.9.5"
  }
 },
 "nbformat": 4,
 "nbformat_minor": 5
}
